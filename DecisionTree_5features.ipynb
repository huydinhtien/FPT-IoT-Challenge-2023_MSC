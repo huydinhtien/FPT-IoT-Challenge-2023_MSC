{
  "nbformat": 4,
  "nbformat_minor": 0,
  "metadata": {
    "kernelspec": {
      "display_name": "Python 3",
      "language": "python",
      "name": "python3"
    },
    "language_info": {
      "codemirror_mode": {
        "name": "ipython",
        "version": 3
      },
      "file_extension": ".py",
      "mimetype": "text/x-python",
      "name": "python",
      "nbconvert_exporter": "python",
      "pygments_lexer": "ipython3",
      "version": "3.7.4"
    },
    "colab": {
      "provenance": []
    }
  },
  "cells": [
    {
      "cell_type": "code",
      "metadata": {
        "colab": {
          "base_uri": "https://localhost:8080/"
        },
        "id": "vhFOwZJfk2sk",
        "outputId": "02db94d7-5008-4d20-b70a-7c59889baa6d"
      },
      "source": [
        "from google.colab import drive\n",
        "drive.mount('/content/drive')"
      ],
      "execution_count": 1,
      "outputs": [
        {
          "output_type": "stream",
          "name": "stdout",
          "text": [
            "Mounted at /content/drive\n"
          ]
        }
      ]
    },
    {
      "cell_type": "code",
      "metadata": {
        "id": "h4jk7tnckxZr"
      },
      "source": [
        "import numpy as np\n",
        "import matplotlib\n",
        "import matplotlib.pyplot as plt\n",
        "from sklearn import metrics\n",
        "import pandas as pd\n",
        "from IPython.core.interactiveshell import InteractiveShell\n",
        "InteractiveShell.ast_node_interactivity = \"all\"\n",
        "from sklearn.model_selection import train_test_split\n",
        "from sklearn.model_selection import GridSearchCV\n",
        "from sklearn.metrics import classification_report\n",
        "from sklearn.metrics import confusion_matrix\n",
        "from sklearn.svm import SVC\n",
        "\n",
        "from scipy import signal\n",
        "\n",
        "df = pd.read_excel('/content/drive/MyDrive/Colab Notebooks/MSC_IoT_2023/data_rate_2.xlsx')\n",
        "\n",
        "#df.head(10)\n",
        "\n",
        "Lying = df[['Lying', 'Unnamed: 2', 'Unnamed: 3']]\n",
        "Lying = Lying.dropna()\n",
        "Lying.index = pd.RangeIndex(len(Lying.index))\n",
        "Lying = Lying.drop(0)\n",
        "#print(Lying)\n",
        "\n",
        "Sitting = df[['Sitting', 'Unnamed: 5', 'Unnamed: 6']]\n",
        "Sitting = Sitting.dropna()\n",
        "Sitting.index = pd.RangeIndex(len(Sitting.index))\n",
        "Sitting = Sitting.drop(0)\n",
        "#print(Sitting)\n",
        "\n",
        "Standing = df[['Standing', 'Unnamed: 8', 'Unnamed: 9']]\n",
        "Standing = Standing.dropna()\n",
        "Standing.index = pd.RangeIndex(len(Standing.index))\n",
        "Standing = Standing.drop(0)\n",
        "#print(Standing)\n",
        "\n",
        "Walking = df[['Normal walking', 'Unnamed: 11', 'Unnamed: 12']]\n",
        "Walking = Walking.dropna()\n",
        "Walking.index = pd.RangeIndex(len(Walking.index))\n",
        "Walking = Walking.drop(0)\n",
        "#print(Normal_walking)\n",
        "\n",
        "Jogging = df[['Active walking', 'Unnamed: 14', 'Unnamed: 15']]\n",
        "Jogging = Jogging.dropna()\n",
        "Jogging.index = pd.RangeIndex(len(Jogging.index))\n",
        "Jogging = Jogging.drop(0)\n",
        "#print(Active_walking)"
      ],
      "execution_count": 2,
      "outputs": []
    },
    {
      "cell_type": "code",
      "metadata": {
        "colab": {
          "base_uri": "https://localhost:8080/",
          "height": 481
        },
        "id": "Znkxl5NemVHT",
        "outputId": "ce2c8e4c-9104-46c8-e242-2d13acf8c4c6"
      },
      "source": [
        "plt.figure (figsize = (6, 5))\n",
        "label_X = ['Nằm', 'Ngồi', 'Đứng', 'Đi bộ', 'Chạy bộ']\n",
        "Value_y =[len(Lying), len(Sitting), len(Standing),len(Walking),len(Jogging)]\n",
        "plt.bar(x = label_X, height = Value_y , width = [0.5,0.5,0.5,0.5,0.5])\n",
        "x_values = [0, 1, 2, 3, 4]\n",
        "for i in range(len(label_X)): # your number of bars\n",
        "  plt.text(x = x_values[i], #takes your x values as horizontal positioning argument\n",
        "  y = Value_y[i]+1, #takes your y values as vertical positioning argument\n",
        "  s = Value_y[i], # the labels you want to add to the data\n",
        "  horizontalalignment='center',\n",
        "  # verticalalignment='center',\n",
        "  size = 10)\n",
        "plt.show()"
      ],
      "execution_count": 3,
      "outputs": [
        {
          "output_type": "execute_result",
          "data": {
            "text/plain": [
              "<Figure size 600x500 with 0 Axes>"
            ]
          },
          "metadata": {},
          "execution_count": 3
        },
        {
          "output_type": "execute_result",
          "data": {
            "text/plain": [
              "<BarContainer object of 5 artists>"
            ]
          },
          "metadata": {},
          "execution_count": 3
        },
        {
          "output_type": "execute_result",
          "data": {
            "text/plain": [
              "Text(0, 4201, '4200')"
            ]
          },
          "metadata": {},
          "execution_count": 3
        },
        {
          "output_type": "execute_result",
          "data": {
            "text/plain": [
              "Text(1, 3433, '3432')"
            ]
          },
          "metadata": {},
          "execution_count": 3
        },
        {
          "output_type": "execute_result",
          "data": {
            "text/plain": [
              "Text(2, 3241, '3240')"
            ]
          },
          "metadata": {},
          "execution_count": 3
        },
        {
          "output_type": "execute_result",
          "data": {
            "text/plain": [
              "Text(3, 4369, '4368')"
            ]
          },
          "metadata": {},
          "execution_count": 3
        },
        {
          "output_type": "execute_result",
          "data": {
            "text/plain": [
              "Text(4, 3031, '3030')"
            ]
          },
          "metadata": {},
          "execution_count": 3
        },
        {
          "output_type": "display_data",
          "data": {
            "text/plain": [
              "<Figure size 600x500 with 1 Axes>"
            ],
            "image/png": "[encoded data removed]"
          },
          "metadata": {}
        }
      ]
    },
    {
      "cell_type": "code",
      "metadata": {
        "id": "ECDCj7SJ0U1B"
      },
      "source": [
        "Walking"
      ],
      "execution_count": null,
      "outputs": []
    },
    {
      "cell_type": "code",
      "metadata": {
        "id": "zFutw7VKzHxO"
      },
      "source": [
        "lying_x = Lying['Lying'][0:200]\n",
        "lying_y = Lying['Unnamed: 2'][0:200]\n",
        "lying_z = Lying['Unnamed: 3'][0:200]\n",
        "\n",
        "sit_x = Sitting['Sitting'][0:200]\n",
        "sit_y = Sitting['Unnamed: 5'][0:200]\n",
        "sit_z = Sitting['Unnamed: 6'][0:200]\n",
        "\n",
        "stand_x = Standing['Standing'][0:200]\n",
        "stand_y = Standing['Unnamed: 8'][0:200]\n",
        "stand_z= Standing['Unnamed: 9'][0:200]\n",
        "\n",
        "jog_x = Jogging['Active walking'][0:200]\n",
        "jog_y = Jogging['Unnamed: 14'][0:200]\n",
        "jog_z = Jogging['Unnamed: 15'][0:200]\n",
        "\n",
        "walk_x = Walking['Normal walking'][0:200]\n",
        "walk_y = Walking['Unnamed: 11'][0:200]\n",
        "walk_z = Walking['Unnamed: 12'][0:200]"
      ],
      "execution_count": 5,
      "outputs": []
    },
    {
      "cell_type": "code",
      "metadata": {
        "colab": {
          "base_uri": "https://localhost:8080/",
          "height": 1000
        },
        "id": "q9GGnCz-zrYp",
        "outputId": "6b3f3eca-566a-46e0-f2eb-76c7849a9ddf"
      },
      "source": [
        "lying_x.plot.hist(grid=True, bins=20, range=[-0.1,0.1], rwidth=0.9, color='#607c8e')\n",
        "                    #grid=True: tạo thêm lưới dọc\n",
        "                    #bin: số khoảng giá trị được chia ra từ range, có bao nhiêu counts xuất hiện trong khoảng đó\n",
        "plt.title('Nằm')\n",
        "plt.ylabel('Số lượng')\n",
        "plt.xlabel('Giá trị gia tốc (g)')\n",
        "plt.ylim([0,75])\n",
        "\n",
        "plt.figure(2) # show 2 hình trên 2 cửa sổ figure riêng biệt\n",
        "\n",
        "sit_x.plot.hist(grid=True, bins=25, range=[-0.92,-0.7], rwidth=0.9, color='#607c8e')\n",
        "                    #grid=True: tạo thêm lưới dọc\n",
        "                    #bin: số khoảng giá trị được chia ra từ range, có bao nhiêu counts xuất hiện trong khoảng đó\n",
        "plt.title('Ngồi')\n",
        "plt.ylabel('Số lượng')\n",
        "plt.xlabel('Giá trị gia tốc (g)')\n",
        "plt.ylim([0,100])\n",
        "\n",
        "plt.figure(3) # show 3 hình trên 3 cửa sổ figure riêng biệt\n",
        "stand_x.plot.hist(grid=True, bins=10, range=[-0.97,-0.9], rwidth=0.9, color='#607c8e')\n",
        "                    #grid=True: tạo thêm lưới dọc\n",
        "                    #bin: số khoảng giá trị được chia ra từ range, có bao nhiêu counts xuất hiện trong khoảng đó\n",
        "plt.title('Đứng')\n",
        "plt.ylabel('Số lượng')\n",
        "plt.xlabel('Giá trị gia tốc (g)')\n",
        "plt.ylim([0,125])\n",
        "\n",
        "plt.figure(4) # show 4 hình trên 4 cửa sổ figure riêng biệt\n",
        "walk_x.plot.hist(grid=True, bins=20, range=[-1.8,-0.6], rwidth=0.9,\n",
        "                   color='#607c8e')\n",
        "plt.title('Đi bộ')\n",
        "plt.ylabel('Số lượng')\n",
        "plt.xlabel('Giá trị gia tốc (g)')\n",
        "plt.ylim([0, 50])\n",
        "\n",
        "plt.figure(5)\n",
        "jog_x.plot.hist(grid=True, bins=20, range=[-2,0], rwidth=0.9,\n",
        "                   color='#607c8e')\n",
        "plt.title('Chạy bộ')\n",
        "plt.ylabel('Số lượng')\n",
        "plt.xlabel('Giá trị gia tốc (g)')\n",
        "plt.ylim([0, 20])"
      ],
      "execution_count": 6,
      "outputs": [
        {
          "output_type": "execute_result",
          "data": {
            "text/plain": [
              "<Axes: ylabel='Frequency'>"
            ]
          },
          "metadata": {},
          "execution_count": 6
        },
        {
          "output_type": "execute_result",
          "data": {
            "text/plain": [
              "Text(0.5, 1.0, 'Nằm')"
            ]
          },
          "metadata": {},
          "execution_count": 6
        },
        {
          "output_type": "execute_result",
          "data": {
            "text/plain": [
              "Text(0, 0.5, 'Số lượng')"
            ]
          },
          "metadata": {},
          "execution_count": 6
        },
        {
          "output_type": "execute_result",
          "data": {
            "text/plain": [
              "Text(0.5, 0, 'Giá trị gia tốc (g)')"
            ]
          },
          "metadata": {},
          "execution_count": 6
        },
        {
          "output_type": "execute_result",
          "data": {
            "text/plain": [
              "(0.0, 75.0)"
            ]
          },
          "metadata": {},
          "execution_count": 6
        },
        {
          "output_type": "execute_result",
          "data": {
            "text/plain": [
              "<Figure size 640x480 with 0 Axes>"
            ]
          },
          "metadata": {},
          "execution_count": 6
        },
        {
          "output_type": "execute_result",
          "data": {
            "text/plain": [
              "<Axes: ylabel='Frequency'>"
            ]
          },
          "metadata": {},
          "execution_count": 6
        },
        {
          "output_type": "execute_result",
          "data": {
            "text/plain": [
              "Text(0.5, 1.0, 'Ngồi')"
            ]
          },
          "metadata": {},
          "execution_count": 6
        },
        {
          "output_type": "execute_result",
          "data": {
            "text/plain": [
              "Text(0, 0.5, 'Số lượng')"
            ]
          },
          "metadata": {},
          "execution_count": 6
        },
        {
          "output_type": "execute_result",
          "data": {
            "text/plain": [
              "Text(0.5, 0, 'Giá trị gia tốc (g)')"
            ]
          },
          "metadata": {},
          "execution_count": 6
        },
        {
          "output_type": "execute_result",
          "data": {
            "text/plain": [
              "(0.0, 100.0)"
            ]
          },
          "metadata": {},
          "execution_count": 6
        },
        {
          "output_type": "execute_result",
          "data": {
            "text/plain": [
              "<Figure size 640x480 with 0 Axes>"
            ]
          },
          "metadata": {},
          "execution_count": 6
        },
        {
          "output_type": "execute_result",
          "data": {
            "text/plain": [
              "<Axes: ylabel='Frequency'>"
            ]
          },
          "metadata": {},
          "execution_count": 6
        },
        {
          "output_type": "execute_result",
          "data": {
            "text/plain": [
              "Text(0.5, 1.0, 'Đứng')"
            ]
          },
          "metadata": {},
          "execution_count": 6
        },
        {
          "output_type": "execute_result",
          "data": {
            "text/plain": [
              "Text(0, 0.5, 'Số lượng')"
            ]
          },
          "metadata": {},
          "execution_count": 6
        },
        {
          "output_type": "execute_result",
          "data": {
            "text/plain": [
              "Text(0.5, 0, 'Giá trị gia tốc (g)')"
            ]
          },
          "metadata": {},
          "execution_count": 6
        },
        {
          "output_type": "execute_result",
          "data": {
            "text/plain": [
              "(0.0, 125.0)"
            ]
          },
          "metadata": {},
          "execution_count": 6
        },
        {
          "output_type": "execute_result",
          "data": {
            "text/plain": [
              "<Figure size 640x480 with 0 Axes>"
            ]
          },
          "metadata": {},
          "execution_count": 6
        },
        {
          "output_type": "execute_result",
          "data": {
            "text/plain": [
              "<Axes: ylabel='Frequency'>"
            ]
          },
          "metadata": {},
          "execution_count": 6
        },
        {
          "output_type": "execute_result",
          "data": {
            "text/plain": [
              "Text(0.5, 1.0, 'Đi bộ')"
            ]
          },
          "metadata": {},
          "execution_count": 6
        },
        {
          "output_type": "execute_result",
          "data": {
            "text/plain": [
              "Text(0, 0.5, 'Số lượng')"
            ]
          },
          "metadata": {},
          "execution_count": 6
        },
        {
          "output_type": "execute_result",
          "data": {
            "text/plain": [
              "Text(0.5, 0, 'Giá trị gia tốc (g)')"
            ]
          },
          "metadata": {},
          "execution_count": 6
        },
        {
          "output_type": "execute_result",
          "data": {
            "text/plain": [
              "(0.0, 50.0)"
            ]
          },
          "metadata": {},
          "execution_count": 6
        },
        {
          "output_type": "execute_result",
          "data": {
            "text/plain": [
              "<Figure size 640x480 with 0 Axes>"
            ]
          },
          "metadata": {},
          "execution_count": 6
        },
        {
          "output_type": "execute_result",
          "data": {
            "text/plain": [
              "<Axes: ylabel='Frequency'>"
            ]
          },
          "metadata": {},
          "execution_count": 6
        },
        {
          "output_type": "execute_result",
          "data": {
            "text/plain": [
              "Text(0.5, 1.0, 'Chạy bộ')"
            ]
          },
          "metadata": {},
          "execution_count": 6
        },
        {
          "output_type": "execute_result",
          "data": {
            "text/plain": [
              "Text(0, 0.5, 'Số lượng')"
            ]
          },
          "metadata": {},
          "execution_count": 6
        },
        {
          "output_type": "execute_result",
          "data": {
            "text/plain": [
              "Text(0.5, 0, 'Giá trị gia tốc (g)')"
            ]
          },
          "metadata": {},
          "execution_count": 6
        },
        {
          "output_type": "execute_result",
          "data": {
            "text/plain": [
              "(0.0, 20.0)"
            ]
          },
          "metadata": {},
          "execution_count": 6
        },
        {
          "output_type": "display_data",
          "data": {
            "text/plain": [
              "<Figure size 640x480 with 1 Axes>"
            ],
            "image/png": "[encoded data removed]"
          },
          "metadata": {}
        },
        {
          "output_type": "display_data",
          "data": {
            "text/plain": [
              "<Figure size 640x480 with 1 Axes>"
            ],
            "image/png": "[encoded data removed]"
          },
          "metadata": {}
        },
        {
          "output_type": "display_data",
          "data": {
            "text/plain": [
              "<Figure size 640x480 with 1 Axes>"
            ],
            "image/png": "[encoded data removed]"
          },
          "metadata": {}
        },
        {
          "output_type": "display_data",
          "data": {
            "text/plain": [
              "<Figure size 640x480 with 1 Axes>"
            ],
            "image/png": "[encoded data removed]"
          },
          "metadata": {}
        },
        {
          "output_type": "display_data",
          "data": {
            "text/plain": [
              "<Figure size 640x480 with 1 Axes>"
            ],
            "image/png": "[encoded data removed]"
          },
          "metadata": {}
        }
      ]
    },
    {
      "cell_type": "code",
      "metadata": {
        "colab": {
          "base_uri": "https://localhost:8080/"
        },
        "id": "Ko90v1DTwwYC",
        "outputId": "ad29d35d-ed6e-4050-8b07-43d9da2ff565"
      },
      "source": [
        "window_size = 10\n",
        "stride = 5\n",
        "\n",
        "X_lying= [Lying[i:i+window_size] for i in range(0, int(len(Lying)), stride) if i+window_size<=int(len(Lying))]\n",
        "print('X_lying: ', len(X_lying))\n",
        "X_sitting= [Sitting[i:i+window_size] for i in range(0, int(len(Sitting)), stride) if i+window_size<=int(len(Sitting))]\n",
        "print('X_sitting: ', len(X_sitting))\n",
        "X_standing = [Standing[i:i+window_size] for i in range(0, int(len(Standing)), stride) if i+window_size<=int(len(Standing))]\n",
        "print('X_standing: ', len(X_standing))\n",
        "X_Walking= [Walking[i:i+window_size] for i in range(0, int(len(Walking)), stride) if i+window_size<=int(len(Walking))]\n",
        "print('X_Walking: ', len(X_Walking))\n",
        "X_Jogging = [Jogging[i:i+window_size] for i in range(0, int(len(Jogging)), stride) if i+window_size<=int(len(Jogging))]\n",
        "print('X_Jogging: ', len(X_Jogging))\n",
        "\n",
        "print('Total:', len(X_sitting) + len(X_standing) + len(X_Walking) + len(X_Jogging) + len(X_lying))"
      ],
      "execution_count": 7,
      "outputs": [
        {
          "output_type": "stream",
          "name": "stdout",
          "text": [
            "X_lying:  839\n",
            "X_sitting:  685\n",
            "X_standing:  647\n",
            "X_Walking:  872\n",
            "X_Jogging:  605\n",
            "Total: 3648\n"
          ]
        }
      ]
    },
    {
      "cell_type": "markdown",
      "metadata": {
        "id": "kUDpEW9JVm2h"
      },
      "source": [
        "Ngẫu nhiên train test"
      ]
    },
    {
      "cell_type": "code",
      "metadata": {
        "colab": {
          "base_uri": "https://localhost:8080/"
        },
        "id": "jF5md3GYVmL2",
        "outputId": "d8041726-cd90-44c5-bf2e-7f4864bce0c2"
      },
      "source": [
        "from sklearn.model_selection import train_test_split #hàm chia ngẫu nhiên tương ứng\n",
        "RateTrain = 0.7\n",
        "\n",
        "#chia tập train và test data\n",
        "arr_lying = np.array(X_lying)\n",
        "test_lying, train_lying = train_test_split(arr_lying, test_size=RateTrain)\n",
        "print('test_lying:', len(test_lying))\n",
        "print('train_lying:', len(train_lying))\n",
        "arr_sitting = np.array(X_sitting)\n",
        "test_sitting, train_sitting = train_test_split(arr_sitting, test_size=RateTrain)\n",
        "print('test_sitting:', len(test_sitting))\n",
        "print('train_sitting', len(train_sitting))\n",
        "arr_standing = np.array(X_standing)\n",
        "test_standing, train_standing = train_test_split(arr_standing, test_size=RateTrain)\n",
        "print('test_standing:', len(test_standing))\n",
        "print('train_standing', len(train_standing))\n",
        "arr_walking = np.array(X_Walking)\n",
        "test_walking, train_walking = train_test_split(arr_walking, test_size=RateTrain)\n",
        "print('test_walking:', len(test_walking))\n",
        "print('train_walking', len(train_walking))\n",
        "arr_jogging= np.array(X_Jogging)\n",
        "test_jogging, train_jogging = train_test_split(arr_jogging, test_size=RateTrain)\n",
        "print('test_jogging:', len(test_jogging))\n",
        "print('train_jogging', len(train_jogging))\n",
        "print('train =  ', len(train_sitting)+ len(train_standing) + len(train_walking) + len(train_jogging) + len(train_lying))\n",
        "print('test =  ', len(test_sitting)+ len(test_standing) + len(test_walking) + len(test_jogging)+len(test_lying))\n",
        "print('Total =  ', len(train_lying)+ len(train_sitting)+ len(train_standing) + len(train_walking) + len(train_jogging) + len(test_lying)+ len(test_sitting)+ len(test_standing) + len(test_walking) + len(test_jogging))"
      ],
      "execution_count": 8,
      "outputs": [
        {
          "output_type": "stream",
          "name": "stdout",
          "text": [
            "test_lying: 251\n",
            "train_lying: 588\n",
            "test_sitting: 205\n",
            "train_sitting 480\n",
            "test_standing: 194\n",
            "train_standing 453\n",
            "test_walking: 261\n",
            "train_walking 611\n",
            "test_jogging: 181\n",
            "train_jogging 424\n",
            "train =   2556\n",
            "test =   1092\n",
            "Total =   3648\n"
          ]
        }
      ]
    },
    {
      "cell_type": "code",
      "metadata": {
        "colab": {
          "base_uri": "https://localhost:8080/"
        },
        "id": "FRA72hgUW3np",
        "outputId": "bfb61288-6eee-47c7-d9f2-d259b6c420c7"
      },
      "source": [
        "#tao chuoi du lieu va nhan dung de train\n",
        "data_train= []\n",
        "label_train = []\n",
        "\n",
        "for acts in train_lying:\n",
        "    data_train.append(pd.DataFrame(acts))\n",
        "    label_train.append(0)\n",
        "\n",
        "for acts in train_sitting:\n",
        "    data_train.append(pd.DataFrame(acts))\n",
        "    label_train.append(1)\n",
        "\n",
        "for acts in train_standing:\n",
        "    data_train.append(pd.DataFrame(acts))\n",
        "    label_train.append(2)\n",
        "\n",
        "for acts in train_walking:\n",
        "    data_train.append(pd.DataFrame(acts))\n",
        "    label_train.append(3)\n",
        "\n",
        "for acts in train_jogging:\n",
        "    data_train.append(pd.DataFrame(acts))\n",
        "    label_train.append(4)\n",
        "\n",
        "#tao chuoi du lieu va nhan dung de test\n",
        "data_test= []\n",
        "label_test = []\n",
        "\n",
        "for acts in test_lying:\n",
        "    data_test.append(pd.DataFrame(acts))\n",
        "    label_test.append(0)\n",
        "\n",
        "for acts in test_sitting:\n",
        "    data_test.append(pd.DataFrame(acts))\n",
        "    label_test.append(1)\n",
        "\n",
        "for acts in test_standing:\n",
        "    data_test.append(pd.DataFrame(acts))\n",
        "    label_test.append(2)\n",
        "\n",
        "for acts in test_walking:\n",
        "    data_test.append(pd.DataFrame(acts))\n",
        "    label_test.append(3)\n",
        "\n",
        "for acts in test_jogging:\n",
        "    data_test.append(pd.DataFrame(acts))\n",
        "    label_test.append(4)\n",
        "\n",
        "print('data_train\\'s length: ', len(data_train))\n",
        "print('label_train\\'s length: ', len(label_train))\n",
        "\n",
        "print('data_test\\'s length: ', len(data_test))\n",
        "print('label_test\\'s length: ', len(label_test))"
      ],
      "execution_count": 10,
      "outputs": [
        {
          "output_type": "stream",
          "name": "stdout",
          "text": [
            "data_train's length:  2556\n",
            "label_train's length:  2556\n",
            "data_test's length:  1092\n",
            "label_test's length:  1092\n"
          ]
        }
      ]
    },
    {
      "cell_type": "markdown",
      "metadata": {
        "id": "LPiw9htDXZaU"
      },
      "source": [
        "Trích chọn đặc trưng"
      ]
    },
    {
      "cell_type": "code",
      "metadata": {
        "id": "tS8pxT9qZ5B8",
        "colab": {
          "base_uri": "https://localhost:8080/"
        },
        "outputId": "1e465ec7-578f-487d-fe9d-77ed25a349fa"
      },
      "source": [
        "import joblib\n",
        "#save\n",
        "joblib.dump(data_train,'/content/drive/MyDrive/Colab Notebooks/MSC_IoT_2023/save_data/data_train.pkl')\n",
        "joblib.dump(label_train,'/content/drive/MyDrive/Colab Notebooks/MSC_IoT_2023/save_data/label_train.pkl')\n",
        "joblib.dump(data_test,'/content/drive/MyDrive/Colab Notebooks/MSC_IoT_2023/save_data/data_test.pkl')\n",
        "joblib.dump(label_test,'/content/drive/MyDrive/Colab Notebooks/MSC_IoT_2023/save_data/label_test.pkl')"
      ],
      "execution_count": 27,
      "outputs": [
        {
          "output_type": "execute_result",
          "data": {
            "text/plain": [
              "['/content/drive/MyDrive/Colab Notebooks/REV2021/save_data/data_train.pkl']"
            ]
          },
          "metadata": {},
          "execution_count": 27
        },
        {
          "output_type": "execute_result",
          "data": {
            "text/plain": [
              "['/content/drive/MyDrive/Colab Notebooks/REV2021/save_data/label_train.pkl']"
            ]
          },
          "metadata": {},
          "execution_count": 27
        },
        {
          "output_type": "execute_result",
          "data": {
            "text/plain": [
              "['/content/drive/MyDrive/Colab Notebooks/REV2021/save_data/data_test.pkl']"
            ]
          },
          "metadata": {},
          "execution_count": 27
        },
        {
          "output_type": "execute_result",
          "data": {
            "text/plain": [
              "['/content/drive/MyDrive/Colab Notebooks/REV2021/save_data/label_test.pkl']"
            ]
          },
          "metadata": {},
          "execution_count": 27
        }
      ]
    },
    {
      "cell_type": "code",
      "metadata": {
        "id": "JuP02PmRdT90"
      },
      "source": [
        "import numpy as np\n",
        "import matplotlib\n",
        "import matplotlib.pyplot as plt\n",
        "# %matplotlib inline # plot in cell\n",
        "from sklearn import metrics\n",
        "import pandas as pd\n",
        "from scipy import signal\n",
        "from scipy import stats\n",
        "import os\n",
        "from IPython.core.interactiveshell import InteractiveShell\n",
        "InteractiveShell.ast_node_interactivity = 'all'\n",
        "# for svm\n",
        "from sklearn.model_selection import train_test_split\n",
        "from sklearn.model_selection import GridSearchCV\n",
        "from sklearn.metrics import classification_report\n",
        "from sklearn.metrics import confusion_matrix\n",
        "from sklearn.svm import SVC\n",
        "from scipy.stats import entropy\n",
        "import joblib\n",
        "data_train= joblib.load('/content/drive/MyDrive/Colab Notebooks/MSC_IoT_2023/save_data/data_train.pkl')\n",
        "label_train = joblib.load('/content/drive/MyDrive/Colab Notebooks/MSC_IoT_2023/save_data/label_train.pkl')\n",
        "data_test = joblib.load('/content/drive/MyDrive/Colab Notebooks/MSC_IoT_2023/save_data/data_test.pkl')\n",
        "label_test= joblib.load('/content/drive/MyDrive/Colab Notebooks/MSC_IoT_2023/save_data/label_test.pkl')"
      ],
      "execution_count": 28,
      "outputs": []
    },
    {
      "cell_type": "code",
      "metadata": {
        "id": "mqWV9D0sXYI9"
      },
      "source": [
        "def featuresFromBuffer(at, fs):\n",
        "  feat = np.zeros(15)\n",
        "  x = np.array(at.iloc[:,0], dtype=np.float64)\n",
        "  y = np.array(at.iloc[:,1], dtype=np.float64)\n",
        "  z = np.array(at.iloc[:,2], dtype=np.float64)\n",
        "  # Mean\n",
        "  means = [np.mean(i) for i in [x, y, z]]\n",
        "  feat[0:3] = means\n",
        "  # Root Mean Square\n",
        "  rms = [np.sqrt(np.mean(i**2)) for i in [x, y, z]]\n",
        "  feat[3:6] = rms\n",
        "  # Standard deviation\n",
        "  std = [np.std(i) for i in [x, y, z]]\n",
        "  feat[6:9] = std\n",
        "  # Iqr\n",
        "  iqr = [np.percentile(i, [75],interpolation='nearest')- np.percentile(i, [25],interpolation='nearest')  for i in [x, y, z]]\n",
        "  feat[9:12] = iqr\n",
        "  # Range\n",
        "  Range = [np.amax(i)-np.amin(i) for i in [x, y, z]]\n",
        "  feat[12:15] = Range\n",
        "  return feat\n",
        "#----------------\n",
        "train_features = []\n",
        "for action in data_train:\n",
        "  feat = featuresFromBuffer(action, 1)\n",
        "  train_features.append(feat)\n",
        "test_features = []\n",
        "for action in data_test:\n",
        "  feat = featuresFromBuffer(action, 1)\n",
        "  test_features.append(feat)"
      ],
      "execution_count": null,
      "outputs": []
    },
    {
      "cell_type": "code",
      "source": [
        "feature_names = ['mean_x','mean_y','mean_z',\n",
        "                  'rms_x','rms_y','rms_z',\n",
        "                  'std_x','std_y','std_z',\n",
        "                  'iqr_x','iqr_y','iqr_z',\n",
        "                  'range_x','range_y','range_z',\n",
        "                ]"
      ],
      "metadata": {
        "id": "YxyH4chuiU41"
      },
      "execution_count": 69,
      "outputs": []
    },
    {
      "cell_type": "code",
      "metadata": {
        "colab": {
          "base_uri": "https://localhost:8080/"
        },
        "id": "ROMAV7-6XekI",
        "outputId": "c946d05a-b600-4406-8406-7dd4e8e969c2"
      },
      "source": [
        "#lower accuracy (nan value -> 0)\n",
        "np.where(np.isnan(train_features))\n",
        "train_features = np.nan_to_num(train_features)\n",
        "np.where(np.isnan(test_features))\n",
        "test_features = np.nan_to_num(test_features)\n",
        "print('\\nTrain feature:',len(train_features))\n",
        "print('Label train:',len(label_train))\n",
        "print('Test feature:',len(test_features))\n",
        "print('Label test:',len(label_test))"
      ],
      "execution_count": 19,
      "outputs": [
        {
          "output_type": "execute_result",
          "data": {
            "text/plain": [
              "(array([], dtype=int64), array([], dtype=int64))"
            ]
          },
          "metadata": {},
          "execution_count": 19
        },
        {
          "output_type": "execute_result",
          "data": {
            "text/plain": [
              "(array([], dtype=int64), array([], dtype=int64))"
            ]
          },
          "metadata": {},
          "execution_count": 19
        },
        {
          "output_type": "stream",
          "name": "stdout",
          "text": [
            "\n",
            "Train feature: 2556\n",
            "Label train: 2556\n",
            "Test feature: 1092\n",
            "Label test: 1092\n"
          ]
        }
      ]
    },
    {
      "cell_type": "code",
      "source": [
        "print(\"Decision Tree:\")\n",
        "from sklearn.tree import DecisionTreeClassifier\n",
        "clf_DT = DecisionTreeClassifier(max_depth=5).fit(train_features, label_train)\n",
        "predicted_DT = clf_DT.predict(test_features)\n",
        "confusion_test_DT = confusion_matrix(label_test, predicted_DT)\n",
        "print('Accuracy of Decision Tree classifier on training set: {:.3f}'.format(clf_DT.score(train_features, label_train)))\n",
        "print('Accuracy of Decision Tree classifier on test set: {:.3f}'.format(clf_DT.score(test_features, label_test)))\n",
        "\n",
        "print(\"\\nDecision Tree:\")\n",
        "df_cm_DT = pd.DataFrame(confusion_test_DT, index = [i for i in range(0, 5)], columns = [i for i in range(0, 5)])\n",
        "print(\"Ma trận nhầm lẫn DT:\")\n",
        "print(df_cm_DT)"
      ],
      "metadata": {
        "colab": {
          "base_uri": "https://localhost:8080/"
        },
        "id": "0isKltVkI_zf",
        "outputId": "77619856-72df-4131-b73c-5d8d9f6cade9"
      },
      "execution_count": 41,
      "outputs": [
        {
          "output_type": "stream",
          "name": "stdout",
          "text": [
            "Decision Tree:\n",
            "Accuracy of Decision Tree classifier on training set: 0.998\n",
            "Accuracy of Decision Tree classifier on test set: 0.996\n",
            "\n",
            "Decision Tree:\n",
            "Ma trận nhầm lẫn DT:\n",
            "     0    1    2    3    4\n",
            "0  251    0    0    0    0\n",
            "1    0  204    0    0    1\n",
            "2    0    0  194    0    0\n",
            "3    0    1    0  258    2\n",
            "4    0    0    0    0  181\n"
          ]
        }
      ]
    },
    {
      "cell_type": "code",
      "source": [
        "from sklearn.tree import plot_tree\n",
        "plt.figure(figsize = (20,10))\n",
        "clf_DT = DecisionTreeClassifier(max_depth=5).fit(train_features, label_train)\n",
        "plot_tree(clf_DT, filled = False)\n",
        "plt.show()"
      ],
      "metadata": {
        "id": "95cGvZSmZI5C"
      },
      "execution_count": null,
      "outputs": []
    },
    {
      "cell_type": "code",
      "source": [
        "import graphviz\n",
        "from sklearn import tree\n",
        "data = tree.export_graphviz(clf_DT, out_file = None)\n",
        "graph = graphviz.Source(data)\n",
        "data = tree.export_graphviz(clf_DT, out_file = None, feature_names = feature_names, class_names = label_X, filled = False)\n",
        "graph = graphviz.Source(data)\n",
        "graph"
      ],
      "metadata": {
        "colab": {
          "base_uri": "https://localhost:8080/",
          "height": 916
        },
        "id": "od8NarWYa-BP",
        "outputId": "ea401da9-aa72-4229-8d37-e495c4c5f6af"
      },
      "execution_count": 72,
      "outputs": [
        {
          "output_type": "execute_result",
          "data": {
            "image/svg+xml": "<?xml version=\"1.0\" encoding=\"UTF-8\" standalone=\"no\"?>\n<!DOCTYPE svg PUBLIC \"-//W3C//DTD SVG 1.1//EN\"\n \"http://www.w3.org/Graphics/SVG/1.1/DTD/svg11.dtd\">\n<!-- Generated by graphviz version 2.43.0 (0)\n -->\n<!-- Title: Tree Pages: 1 -->\n<svg width=\"857pt\" height=\"671pt\"\n viewBox=\"0.00 0.00 857.00 671.00\" xmlns=\"http://www.w3.org/2000/svg\" xmlns:xlink=\"http://www.w3.org/1999/xlink\">\n<g id=\"graph0\" class=\"graph\" transform=\"scale(1 1) rotate(0) translate(4 667)\">\n<title>Tree</title>\n<polygon fill=\"white\" stroke=\"transparent\" points=\"-4,4 -4,-667 853,-667 853,4 -4,4\"/>\n<!-- 0 -->\n<g id=\"node1\" class=\"node\">\n<title>0</title>\n<polygon fill=\"none\" stroke=\"black\" points=\"547,-663 332,-663 332,-580 547,-580 547,-663\"/>\n<text text-anchor=\"middle\" x=\"439.5\" y=\"-647.8\" font-family=\"Helvetica,sans-Serif\" font-size=\"14.00\">rms_z &lt;= 0.422</text>\n<text text-anchor=\"middle\" x=\"439.5\" y=\"-632.8\" font-family=\"Helvetica,sans-Serif\" font-size=\"14.00\">gini = 0.796</text>\n<text text-anchor=\"middle\" x=\"439.5\" y=\"-617.8\" font-family=\"Helvetica,sans-Serif\" font-size=\"14.00\">samples = 2556</text>\n<text text-anchor=\"middle\" x=\"439.5\" y=\"-602.8\" font-family=\"Helvetica,sans-Serif\" font-size=\"14.00\">value = [588, 480, 453, 611, 424]</text>\n<text text-anchor=\"middle\" x=\"439.5\" y=\"-587.8\" font-family=\"Helvetica,sans-Serif\" font-size=\"14.00\">class = Đi bộ</text>\n</g>\n<!-- 1 -->\n<g id=\"node2\" class=\"node\">\n<title>1</title>\n<polygon fill=\"none\" stroke=\"black\" points=\"441.5,-544 241.5,-544 241.5,-461 441.5,-461 441.5,-544\"/>\n<text text-anchor=\"middle\" x=\"341.5\" y=\"-528.8\" font-family=\"Helvetica,sans-Serif\" font-size=\"14.00\">std_x &lt;= 0.054</text>\n<text text-anchor=\"middle\" x=\"341.5\" y=\"-513.8\" font-family=\"Helvetica,sans-Serif\" font-size=\"14.00\">gini = 0.745</text>\n<text text-anchor=\"middle\" x=\"341.5\" y=\"-498.8\" font-family=\"Helvetica,sans-Serif\" font-size=\"14.00\">samples = 1968</text>\n<text text-anchor=\"middle\" x=\"341.5\" y=\"-483.8\" font-family=\"Helvetica,sans-Serif\" font-size=\"14.00\">value = [0, 480, 453, 611, 424]</text>\n<text text-anchor=\"middle\" x=\"341.5\" y=\"-468.8\" font-family=\"Helvetica,sans-Serif\" font-size=\"14.00\">class = Đi bộ</text>\n</g>\n<!-- 0&#45;&gt;1 -->\n<g id=\"edge1\" class=\"edge\">\n<title>0&#45;&gt;1</title>\n<path fill=\"none\" stroke=\"black\" d=\"M405.5,-579.91C397.9,-570.83 389.76,-561.12 381.93,-551.77\"/>\n<polygon fill=\"black\" stroke=\"black\" points=\"384.54,-549.44 375.44,-544.02 379.18,-553.93 384.54,-549.44\"/>\n<text text-anchor=\"middle\" x=\"373.24\" y=\"-565.22\" font-family=\"Helvetica,sans-Serif\" font-size=\"14.00\">True</text>\n</g>\n<!-- 16 -->\n<g id=\"node17\" class=\"node\">\n<title>16</title>\n<polygon fill=\"none\" stroke=\"black\" points=\"615,-536.5 460,-536.5 460,-468.5 615,-468.5 615,-536.5\"/>\n<text text-anchor=\"middle\" x=\"537.5\" y=\"-521.3\" font-family=\"Helvetica,sans-Serif\" font-size=\"14.00\">gini = 0.0</text>\n<text text-anchor=\"middle\" x=\"537.5\" y=\"-506.3\" font-family=\"Helvetica,sans-Serif\" font-size=\"14.00\">samples = 588</text>\n<text text-anchor=\"middle\" x=\"537.5\" y=\"-491.3\" font-family=\"Helvetica,sans-Serif\" font-size=\"14.00\">value = [588, 0, 0, 0, 0]</text>\n<text text-anchor=\"middle\" x=\"537.5\" y=\"-476.3\" font-family=\"Helvetica,sans-Serif\" font-size=\"14.00\">class = Nằm</text>\n</g>\n<!-- 0&#45;&gt;16 -->\n<g id=\"edge16\" class=\"edge\">\n<title>0&#45;&gt;16</title>\n<path fill=\"none\" stroke=\"black\" d=\"M473.5,-579.91C483.11,-568.43 493.58,-555.94 503.21,-544.44\"/>\n<polygon fill=\"black\" stroke=\"black\" points=\"505.98,-546.58 509.72,-536.67 500.61,-542.09 505.98,-546.58\"/>\n<text text-anchor=\"middle\" x=\"511.92\" y=\"-557.87\" font-family=\"Helvetica,sans-Serif\" font-size=\"14.00\">False</text>\n</g>\n<!-- 2 -->\n<g id=\"node3\" class=\"node\">\n<title>2</title>\n<polygon fill=\"none\" stroke=\"black\" points=\"332.5,-425 162.5,-425 162.5,-342 332.5,-342 332.5,-425\"/>\n<text text-anchor=\"middle\" x=\"247.5\" y=\"-409.8\" font-family=\"Helvetica,sans-Serif\" font-size=\"14.00\">rms_x &lt;= 0.923</text>\n<text text-anchor=\"middle\" x=\"247.5\" y=\"-394.8\" font-family=\"Helvetica,sans-Serif\" font-size=\"14.00\">gini = 0.5</text>\n<text text-anchor=\"middle\" x=\"247.5\" y=\"-379.8\" font-family=\"Helvetica,sans-Serif\" font-size=\"14.00\">samples = 933</text>\n<text text-anchor=\"middle\" x=\"247.5\" y=\"-364.8\" font-family=\"Helvetica,sans-Serif\" font-size=\"14.00\">value = [0, 480, 453, 0, 0]</text>\n<text text-anchor=\"middle\" x=\"247.5\" y=\"-349.8\" font-family=\"Helvetica,sans-Serif\" font-size=\"14.00\">class = Ngồi</text>\n</g>\n<!-- 1&#45;&gt;2 -->\n<g id=\"edge2\" class=\"edge\">\n<title>1&#45;&gt;2</title>\n<path fill=\"none\" stroke=\"black\" d=\"M308.89,-460.91C301.67,-451.92 293.95,-442.32 286.51,-433.05\"/>\n<polygon fill=\"black\" stroke=\"black\" points=\"289.05,-430.62 280.06,-425.02 283.59,-435.01 289.05,-430.62\"/>\n</g>\n<!-- 5 -->\n<g id=\"node6\" class=\"node\">\n<title>5</title>\n<polygon fill=\"none\" stroke=\"black\" points=\"520.5,-425 350.5,-425 350.5,-342 520.5,-342 520.5,-425\"/>\n<text text-anchor=\"middle\" x=\"435.5\" y=\"-409.8\" font-family=\"Helvetica,sans-Serif\" font-size=\"14.00\">iqr_x &lt;= 0.41</text>\n<text text-anchor=\"middle\" x=\"435.5\" y=\"-394.8\" font-family=\"Helvetica,sans-Serif\" font-size=\"14.00\">gini = 0.484</text>\n<text text-anchor=\"middle\" x=\"435.5\" y=\"-379.8\" font-family=\"Helvetica,sans-Serif\" font-size=\"14.00\">samples = 1035</text>\n<text text-anchor=\"middle\" x=\"435.5\" y=\"-364.8\" font-family=\"Helvetica,sans-Serif\" font-size=\"14.00\">value = [0, 0, 0, 611, 424]</text>\n<text text-anchor=\"middle\" x=\"435.5\" y=\"-349.8\" font-family=\"Helvetica,sans-Serif\" font-size=\"14.00\">class = Đi bộ</text>\n</g>\n<!-- 1&#45;&gt;5 -->\n<g id=\"edge5\" class=\"edge\">\n<title>1&#45;&gt;5</title>\n<path fill=\"none\" stroke=\"black\" d=\"M374.11,-460.91C381.33,-451.92 389.05,-442.32 396.49,-433.05\"/>\n<polygon fill=\"black\" stroke=\"black\" points=\"399.41,-435.01 402.94,-425.02 393.95,-430.62 399.41,-435.01\"/>\n</g>\n<!-- 3 -->\n<g id=\"node4\" class=\"node\">\n<title>3</title>\n<polygon fill=\"none\" stroke=\"black\" points=\"155,-298.5 0,-298.5 0,-230.5 155,-230.5 155,-298.5\"/>\n<text text-anchor=\"middle\" x=\"77.5\" y=\"-283.3\" font-family=\"Helvetica,sans-Serif\" font-size=\"14.00\">gini = 0.0</text>\n<text text-anchor=\"middle\" x=\"77.5\" y=\"-268.3\" font-family=\"Helvetica,sans-Serif\" font-size=\"14.00\">samples = 480</text>\n<text text-anchor=\"middle\" x=\"77.5\" y=\"-253.3\" font-family=\"Helvetica,sans-Serif\" font-size=\"14.00\">value = [0, 480, 0, 0, 0]</text>\n<text text-anchor=\"middle\" x=\"77.5\" y=\"-238.3\" font-family=\"Helvetica,sans-Serif\" font-size=\"14.00\">class = Ngồi</text>\n</g>\n<!-- 2&#45;&gt;3 -->\n<g id=\"edge3\" class=\"edge\">\n<title>2&#45;&gt;3</title>\n<path fill=\"none\" stroke=\"black\" d=\"M188.52,-341.91C170.88,-329.77 151.59,-316.49 134.11,-304.46\"/>\n<polygon fill=\"black\" stroke=\"black\" points=\"135.91,-301.45 125.69,-298.67 131.94,-307.22 135.91,-301.45\"/>\n</g>\n<!-- 4 -->\n<g id=\"node5\" class=\"node\">\n<title>4</title>\n<polygon fill=\"none\" stroke=\"black\" points=\"328,-298.5 173,-298.5 173,-230.5 328,-230.5 328,-298.5\"/>\n<text text-anchor=\"middle\" x=\"250.5\" y=\"-283.3\" font-family=\"Helvetica,sans-Serif\" font-size=\"14.00\">gini = 0.0</text>\n<text text-anchor=\"middle\" x=\"250.5\" y=\"-268.3\" font-family=\"Helvetica,sans-Serif\" font-size=\"14.00\">samples = 453</text>\n<text text-anchor=\"middle\" x=\"250.5\" y=\"-253.3\" font-family=\"Helvetica,sans-Serif\" font-size=\"14.00\">value = [0, 0, 453, 0, 0]</text>\n<text text-anchor=\"middle\" x=\"250.5\" y=\"-238.3\" font-family=\"Helvetica,sans-Serif\" font-size=\"14.00\">class = Đứng</text>\n</g>\n<!-- 2&#45;&gt;4 -->\n<g id=\"edge4\" class=\"edge\">\n<title>2&#45;&gt;4</title>\n<path fill=\"none\" stroke=\"black\" d=\"M248.54,-341.91C248.82,-331.2 249.11,-319.62 249.39,-308.78\"/>\n<polygon fill=\"black\" stroke=\"black\" points=\"252.89,-308.75 249.65,-298.67 245.89,-308.57 252.89,-308.75\"/>\n</g>\n<!-- 6 -->\n<g id=\"node7\" class=\"node\">\n<title>6</title>\n<polygon fill=\"none\" stroke=\"black\" points=\"513.5,-306 351.5,-306 351.5,-223 513.5,-223 513.5,-306\"/>\n<text text-anchor=\"middle\" x=\"432.5\" y=\"-290.8\" font-family=\"Helvetica,sans-Serif\" font-size=\"14.00\">rms_y &lt;= 0.388</text>\n<text text-anchor=\"middle\" x=\"432.5\" y=\"-275.8\" font-family=\"Helvetica,sans-Serif\" font-size=\"14.00\">gini = 0.059</text>\n<text text-anchor=\"middle\" x=\"432.5\" y=\"-260.8\" font-family=\"Helvetica,sans-Serif\" font-size=\"14.00\">samples = 629</text>\n<text text-anchor=\"middle\" x=\"432.5\" y=\"-245.8\" font-family=\"Helvetica,sans-Serif\" font-size=\"14.00\">value = [0, 0, 0, 610, 19]</text>\n<text text-anchor=\"middle\" x=\"432.5\" y=\"-230.8\" font-family=\"Helvetica,sans-Serif\" font-size=\"14.00\">class = Đi bộ</text>\n</g>\n<!-- 5&#45;&gt;6 -->\n<g id=\"edge6\" class=\"edge\">\n<title>5&#45;&gt;6</title>\n<path fill=\"none\" stroke=\"black\" d=\"M434.46,-341.91C434.25,-333.56 434.02,-324.67 433.8,-316.02\"/>\n<polygon fill=\"black\" stroke=\"black\" points=\"437.29,-315.93 433.54,-306.02 430.3,-316.11 437.29,-315.93\"/>\n</g>\n<!-- 13 -->\n<g id=\"node14\" class=\"node\">\n<title>13</title>\n<polygon fill=\"none\" stroke=\"black\" points=\"687,-306 532,-306 532,-223 687,-223 687,-306\"/>\n<text text-anchor=\"middle\" x=\"609.5\" y=\"-290.8\" font-family=\"Helvetica,sans-Serif\" font-size=\"14.00\">std_z &lt;= 0.082</text>\n<text text-anchor=\"middle\" x=\"609.5\" y=\"-275.8\" font-family=\"Helvetica,sans-Serif\" font-size=\"14.00\">gini = 0.005</text>\n<text text-anchor=\"middle\" x=\"609.5\" y=\"-260.8\" font-family=\"Helvetica,sans-Serif\" font-size=\"14.00\">samples = 406</text>\n<text text-anchor=\"middle\" x=\"609.5\" y=\"-245.8\" font-family=\"Helvetica,sans-Serif\" font-size=\"14.00\">value = [0, 0, 0, 1, 405]</text>\n<text text-anchor=\"middle\" x=\"609.5\" y=\"-230.8\" font-family=\"Helvetica,sans-Serif\" font-size=\"14.00\">class = Chạy bộ</text>\n</g>\n<!-- 5&#45;&gt;13 -->\n<g id=\"edge13\" class=\"edge\">\n<title>5&#45;&gt;13</title>\n<path fill=\"none\" stroke=\"black\" d=\"M495.87,-341.91C510.31,-332.2 525.83,-321.76 540.63,-311.81\"/>\n<polygon fill=\"black\" stroke=\"black\" points=\"542.89,-314.51 549.24,-306.02 538.99,-308.7 542.89,-314.51\"/>\n</g>\n<!-- 7 -->\n<g id=\"node8\" class=\"node\">\n<title>7</title>\n<polygon fill=\"none\" stroke=\"black\" points=\"345,-187 190,-187 190,-104 345,-104 345,-187\"/>\n<text text-anchor=\"middle\" x=\"267.5\" y=\"-171.8\" font-family=\"Helvetica,sans-Serif\" font-size=\"14.00\">mean_z &lt;= &#45;0.106</text>\n<text text-anchor=\"middle\" x=\"267.5\" y=\"-156.8\" font-family=\"Helvetica,sans-Serif\" font-size=\"14.00\">gini = 0.01</text>\n<text text-anchor=\"middle\" x=\"267.5\" y=\"-141.8\" font-family=\"Helvetica,sans-Serif\" font-size=\"14.00\">samples = 605</text>\n<text text-anchor=\"middle\" x=\"267.5\" y=\"-126.8\" font-family=\"Helvetica,sans-Serif\" font-size=\"14.00\">value = [0, 0, 0, 602, 3]</text>\n<text text-anchor=\"middle\" x=\"267.5\" y=\"-111.8\" font-family=\"Helvetica,sans-Serif\" font-size=\"14.00\">class = Đi bộ</text>\n</g>\n<!-- 6&#45;&gt;7 -->\n<g id=\"edge7\" class=\"edge\">\n<title>6&#45;&gt;7</title>\n<path fill=\"none\" stroke=\"black\" d=\"M375.25,-222.91C361.56,-213.2 346.84,-202.76 332.81,-192.81\"/>\n<polygon fill=\"black\" stroke=\"black\" points=\"334.83,-189.95 324.64,-187.02 330.78,-195.66 334.83,-189.95\"/>\n</g>\n<!-- 10 -->\n<g id=\"node11\" class=\"node\">\n<title>10</title>\n<polygon fill=\"none\" stroke=\"black\" points=\"510,-187 363,-187 363,-104 510,-104 510,-187\"/>\n<text text-anchor=\"middle\" x=\"436.5\" y=\"-171.8\" font-family=\"Helvetica,sans-Serif\" font-size=\"14.00\">std_x &lt;= 0.253</text>\n<text text-anchor=\"middle\" x=\"436.5\" y=\"-156.8\" font-family=\"Helvetica,sans-Serif\" font-size=\"14.00\">gini = 0.444</text>\n<text text-anchor=\"middle\" x=\"436.5\" y=\"-141.8\" font-family=\"Helvetica,sans-Serif\" font-size=\"14.00\">samples = 24</text>\n<text text-anchor=\"middle\" x=\"436.5\" y=\"-126.8\" font-family=\"Helvetica,sans-Serif\" font-size=\"14.00\">value = [0, 0, 0, 8, 16]</text>\n<text text-anchor=\"middle\" x=\"436.5\" y=\"-111.8\" font-family=\"Helvetica,sans-Serif\" font-size=\"14.00\">class = Chạy bộ</text>\n</g>\n<!-- 6&#45;&gt;10 -->\n<g id=\"edge10\" class=\"edge\">\n<title>6&#45;&gt;10</title>\n<path fill=\"none\" stroke=\"black\" d=\"M433.89,-222.91C434.17,-214.56 434.48,-205.67 434.77,-197.02\"/>\n<polygon fill=\"black\" stroke=\"black\" points=\"438.27,-197.13 435.11,-187.02 431.27,-196.9 438.27,-197.13\"/>\n</g>\n<!-- 8 -->\n<g id=\"node9\" class=\"node\">\n<title>8</title>\n<polygon fill=\"none\" stroke=\"black\" points=\"172.5,-68 32.5,-68 32.5,0 172.5,0 172.5,-68\"/>\n<text text-anchor=\"middle\" x=\"102.5\" y=\"-52.8\" font-family=\"Helvetica,sans-Serif\" font-size=\"14.00\">gini = 0.0</text>\n<text text-anchor=\"middle\" x=\"102.5\" y=\"-37.8\" font-family=\"Helvetica,sans-Serif\" font-size=\"14.00\">samples = 1</text>\n<text text-anchor=\"middle\" x=\"102.5\" y=\"-22.8\" font-family=\"Helvetica,sans-Serif\" font-size=\"14.00\">value = [0, 0, 0, 0, 1]</text>\n<text text-anchor=\"middle\" x=\"102.5\" y=\"-7.8\" font-family=\"Helvetica,sans-Serif\" font-size=\"14.00\">class = Chạy bộ</text>\n</g>\n<!-- 7&#45;&gt;8 -->\n<g id=\"edge8\" class=\"edge\">\n<title>7&#45;&gt;8</title>\n<path fill=\"none\" stroke=\"black\" d=\"M206.06,-103.73C191.28,-93.92 175.53,-83.46 160.89,-73.75\"/>\n<polygon fill=\"black\" stroke=\"black\" points=\"162.68,-70.74 152.41,-68.13 158.81,-76.57 162.68,-70.74\"/>\n</g>\n<!-- 9 -->\n<g id=\"node10\" class=\"node\">\n<title>9</title>\n<polygon fill=\"none\" stroke=\"black\" points=\"346,-68 191,-68 191,0 346,0 346,-68\"/>\n<text text-anchor=\"middle\" x=\"268.5\" y=\"-52.8\" font-family=\"Helvetica,sans-Serif\" font-size=\"14.00\">gini = 0.007</text>\n<text text-anchor=\"middle\" x=\"268.5\" y=\"-37.8\" font-family=\"Helvetica,sans-Serif\" font-size=\"14.00\">samples = 604</text>\n<text text-anchor=\"middle\" x=\"268.5\" y=\"-22.8\" font-family=\"Helvetica,sans-Serif\" font-size=\"14.00\">value = [0, 0, 0, 602, 2]</text>\n<text text-anchor=\"middle\" x=\"268.5\" y=\"-7.8\" font-family=\"Helvetica,sans-Serif\" font-size=\"14.00\">class = Đi bộ</text>\n</g>\n<!-- 7&#45;&gt;9 -->\n<g id=\"edge9\" class=\"edge\">\n<title>7&#45;&gt;9</title>\n<path fill=\"none\" stroke=\"black\" d=\"M267.87,-103.73C267.95,-95.52 268.03,-86.86 268.1,-78.56\"/>\n<polygon fill=\"black\" stroke=\"black\" points=\"271.6,-78.33 268.2,-68.3 264.6,-78.27 271.6,-78.33\"/>\n</g>\n<!-- 11 -->\n<g id=\"node12\" class=\"node\">\n<title>11</title>\n<polygon fill=\"none\" stroke=\"black\" points=\"505.5,-68 365.5,-68 365.5,0 505.5,0 505.5,-68\"/>\n<text text-anchor=\"middle\" x=\"435.5\" y=\"-52.8\" font-family=\"Helvetica,sans-Serif\" font-size=\"14.00\">gini = 0.0</text>\n<text text-anchor=\"middle\" x=\"435.5\" y=\"-37.8\" font-family=\"Helvetica,sans-Serif\" font-size=\"14.00\">samples = 6</text>\n<text text-anchor=\"middle\" x=\"435.5\" y=\"-22.8\" font-family=\"Helvetica,sans-Serif\" font-size=\"14.00\">value = [0, 0, 0, 6, 0]</text>\n<text text-anchor=\"middle\" x=\"435.5\" y=\"-7.8\" font-family=\"Helvetica,sans-Serif\" font-size=\"14.00\">class = Đi bộ</text>\n</g>\n<!-- 10&#45;&gt;11 -->\n<g id=\"edge11\" class=\"edge\">\n<title>10&#45;&gt;11</title>\n<path fill=\"none\" stroke=\"black\" d=\"M436.13,-103.73C436.05,-95.52 435.97,-86.86 435.9,-78.56\"/>\n<polygon fill=\"black\" stroke=\"black\" points=\"439.4,-78.27 435.8,-68.3 432.4,-78.33 439.4,-78.27\"/>\n</g>\n<!-- 12 -->\n<g id=\"node13\" class=\"node\">\n<title>12</title>\n<polygon fill=\"none\" stroke=\"black\" points=\"671,-68 524,-68 524,0 671,0 671,-68\"/>\n<text text-anchor=\"middle\" x=\"597.5\" y=\"-52.8\" font-family=\"Helvetica,sans-Serif\" font-size=\"14.00\">gini = 0.198</text>\n<text text-anchor=\"middle\" x=\"597.5\" y=\"-37.8\" font-family=\"Helvetica,sans-Serif\" font-size=\"14.00\">samples = 18</text>\n<text text-anchor=\"middle\" x=\"597.5\" y=\"-22.8\" font-family=\"Helvetica,sans-Serif\" font-size=\"14.00\">value = [0, 0, 0, 2, 16]</text>\n<text text-anchor=\"middle\" x=\"597.5\" y=\"-7.8\" font-family=\"Helvetica,sans-Serif\" font-size=\"14.00\">class = Chạy bộ</text>\n</g>\n<!-- 10&#45;&gt;12 -->\n<g id=\"edge12\" class=\"edge\">\n<title>10&#45;&gt;12</title>\n<path fill=\"none\" stroke=\"black\" d=\"M496.45,-103.73C510.87,-93.92 526.24,-83.46 540.53,-73.75\"/>\n<polygon fill=\"black\" stroke=\"black\" points=\"542.49,-76.64 548.8,-68.13 538.56,-70.85 542.49,-76.64\"/>\n</g>\n<!-- 14 -->\n<g id=\"node15\" class=\"node\">\n<title>14</title>\n<polygon fill=\"none\" stroke=\"black\" points=\"675.5,-179.5 535.5,-179.5 535.5,-111.5 675.5,-111.5 675.5,-179.5\"/>\n<text text-anchor=\"middle\" x=\"605.5\" y=\"-164.3\" font-family=\"Helvetica,sans-Serif\" font-size=\"14.00\">gini = 0.0</text>\n<text text-anchor=\"middle\" x=\"605.5\" y=\"-149.3\" font-family=\"Helvetica,sans-Serif\" font-size=\"14.00\">samples = 1</text>\n<text text-anchor=\"middle\" x=\"605.5\" y=\"-134.3\" font-family=\"Helvetica,sans-Serif\" font-size=\"14.00\">value = [0, 0, 0, 1, 0]</text>\n<text text-anchor=\"middle\" x=\"605.5\" y=\"-119.3\" font-family=\"Helvetica,sans-Serif\" font-size=\"14.00\">class = Đi bộ</text>\n</g>\n<!-- 13&#45;&gt;14 -->\n<g id=\"edge14\" class=\"edge\">\n<title>13&#45;&gt;14</title>\n<path fill=\"none\" stroke=\"black\" d=\"M608.11,-222.91C607.75,-212.2 607.35,-200.62 606.98,-189.78\"/>\n<polygon fill=\"black\" stroke=\"black\" points=\"610.47,-189.54 606.63,-179.67 603.48,-189.78 610.47,-189.54\"/>\n</g>\n<!-- 15 -->\n<g id=\"node16\" class=\"node\">\n<title>15</title>\n<polygon fill=\"none\" stroke=\"black\" points=\"849,-179.5 694,-179.5 694,-111.5 849,-111.5 849,-179.5\"/>\n<text text-anchor=\"middle\" x=\"771.5\" y=\"-164.3\" font-family=\"Helvetica,sans-Serif\" font-size=\"14.00\">gini = 0.0</text>\n<text text-anchor=\"middle\" x=\"771.5\" y=\"-149.3\" font-family=\"Helvetica,sans-Serif\" font-size=\"14.00\">samples = 405</text>\n<text text-anchor=\"middle\" x=\"771.5\" y=\"-134.3\" font-family=\"Helvetica,sans-Serif\" font-size=\"14.00\">value = [0, 0, 0, 0, 405]</text>\n<text text-anchor=\"middle\" x=\"771.5\" y=\"-119.3\" font-family=\"Helvetica,sans-Serif\" font-size=\"14.00\">class = Chạy bộ</text>\n</g>\n<!-- 13&#45;&gt;15 -->\n<g id=\"edge15\" class=\"edge\">\n<title>13&#45;&gt;15</title>\n<path fill=\"none\" stroke=\"black\" d=\"M665.71,-222.91C682.36,-210.88 700.56,-197.73 717.1,-185.79\"/>\n<polygon fill=\"black\" stroke=\"black\" points=\"719.52,-188.36 725.58,-179.67 715.42,-182.68 719.52,-188.36\"/>\n</g>\n</g>\n</svg>\n",
            "text/plain": [
              "<graphviz.sources.Source at 0x7f9c98c9ba00>"
            ]
          },
          "metadata": {},
          "execution_count": 72
        }
      ]
    },
    {
      "cell_type": "code",
      "metadata": {
        "id": "ibHFUwcZXhnJ"
      },
      "source": [
        "import time\n",
        "from sklearn.feature_selection import SelectFromModel\n",
        "\n",
        "print(\"Gradient Boosting Decision Tree:\")\n",
        "from sklearn.ensemble import GradientBoostingClassifier\n",
        "clf_GBDT = GradientBoostingClassifier(learning_rate=0.05,max_depth=3,n_estimators=100).fit(train_features, label_train)\n",
        "predicted_GBDT = clf_GBDT.predict(test_features)\n",
        "confusion_test_GBDT = confusion_matrix(label_test, predicted_GBDT)\n",
        "#format: pass score in {:.3f}\n",
        "print('Accuracy of GBDT classifier on training set: {:.3f}'\n",
        "     .format(clf_GBDT.score(train_features, label_train)))\n",
        "print('Accuracy of GBDT classifier on test set: {:.3f}'\n",
        "     .format(clf_GBDT.score(test_features, label_test)))\n",
        "\n",
        "print(\"\\n\\nSVM:\")\n",
        "clf_SVM = SVC(C=100, gamma='scale').fit(train_features, label_train)\n",
        "predicted_SVM = clf_SVM.predict(test_features)\n",
        "confusion_test_SVM = confusion_matrix(label_test, predicted_SVM)\n",
        "print(\"Accuracy on training set: {:.2f}\".format(clf_SVM.score(train_features, label_train)))\n",
        "print(\"Accuracy on test set: {:.2f}\".format(clf_SVM.score(test_features, label_test)))\n",
        "\n",
        "print('\\n\\nRandom Forests:')\n",
        "from sklearn.ensemble import RandomForestClassifier\n",
        "clf_RF = RandomForestClassifier(n_estimators=200, random_state=0).fit(train_features, label_train)\n",
        "predicted_RF = clf_RF.predict(test_features)\n",
        "confusion_test_RF = confusion_matrix(label_test, predicted_RF)\n",
        "print('Accuracy of RF classifier on training set: {:.3f}'\n",
        "     .format(clf_RF.score(train_features, label_train)))\n",
        "print('Accuracy of RF classifier on test set: {:.3f}'\n",
        "     .format(clf_RF.score(test_features, label_test)))\n",
        "\n",
        "start_time = time.time()\n",
        "print('\\n\\nK-NN:')\n",
        "from sklearn.neighbors import KNeighborsClassifier\n",
        "clf_KNN = KNeighborsClassifier(n_neighbors = 5, weights = 'distance').fit(train_features, label_train)\n",
        "start_time1 = time.time()\n",
        "predicted_KNN = clf_KNN.predict(test_features)\n",
        "confusion_test_KNN = confusion_matrix(label_test, predicted_KNN)\n",
        "print('Accuracy of K-NN classifier on training set: {:.2f}'\n",
        "     .format(clf_KNN.score(train_features, label_train)))\n",
        "print('Accuracy of K-NN classifier on test set: {:.2f}'\n",
        "     .format(clf_KNN.score(test_features, label_test)))\n",
        "start_time2 = time.time()\n",
        "\n",
        "print(\"train=\",start_time1-start_time)\n",
        "print(\"test=\",start_time2-start_time1)"
      ],
      "execution_count": null,
      "outputs": []
    },
    {
      "cell_type": "code",
      "source": [
        "data_train = joblib.load('/content/drive/MyDrive/Colab Notebooks/MSC_IoT_2023/save_data/data_train.pkl')\n",
        "label_train = joblib.load('/content/drive/MyDrive/Colab Notebooks/MSC_IoT_2023/save_data/label_train.pkl')\n",
        "data_test = joblib.load('/content/drive/MyDrive/Colab Notebooks/MSC_IoT_2023/save_data/data_test.pkl')\n",
        "label_test= joblib.load('/content/drive/MyDrive/Colab Notebooks/MSC_IoT_2023/save_data/label_test.pkl')"
      ],
      "metadata": {
        "id": "xuTCAEO4KF1x"
      },
      "execution_count": 43,
      "outputs": []
    },
    {
      "cell_type": "code",
      "metadata": {
        "id": "AF14GxwgWP23",
        "colab": {
          "base_uri": "https://localhost:8080/"
        },
        "outputId": "5240e00e-398f-4d52-b2be-fce1b3c6fd4d"
      },
      "source": [
        "#save\n",
        "joblib.dump(clf_GBDT,'/content/drive/MyDrive/Colab Notebooks/MSC_IoT_2023/save_data/clf_GBDT.pkl')\n",
        "joblib.dump(clf_DT,'/content/drive/MyDrive/Colab Notebooks/MSC_IoT_2023/save_data/clf_DT.pkl')\n",
        "joblib.dump(clf_SVM,'/content/drive/MyDrive/Colab Notebooks/MSC_IoT_2023/save_data/clf_SVM.pkl')\n",
        "joblib.dump(clf_RF,'/content/drive/MyDrive/Colab Notebooks/MSC_IoT_2023/save_data/clf_RF.pkl')\n",
        "joblib.dump(clf_KNN,'/content/drive/MyDrive/Colab Notebooks/MSC_IoT_2023/save_data/clf_KNN.pkl')"
      ],
      "execution_count": 44,
      "outputs": [
        {
          "output_type": "execute_result",
          "data": {
            "text/plain": [
              "['/content/drive/MyDrive/Colab Notebooks/MSC_IoT_2023/save_data/clf_GBDT.pkl']"
            ]
          },
          "metadata": {},
          "execution_count": 44
        },
        {
          "output_type": "execute_result",
          "data": {
            "text/plain": [
              "['/content/drive/MyDrive/Colab Notebooks/MSC_IoT_2023/save_data/clf_DT.pkl']"
            ]
          },
          "metadata": {},
          "execution_count": 44
        },
        {
          "output_type": "execute_result",
          "data": {
            "text/plain": [
              "['/content/drive/MyDrive/Colab Notebooks/MSC_IoT_2023/save_data/clf_SVM.pkl']"
            ]
          },
          "metadata": {},
          "execution_count": 44
        },
        {
          "output_type": "execute_result",
          "data": {
            "text/plain": [
              "['/content/drive/MyDrive/Colab Notebooks/MSC_IoT_2023/save_data/clf_RF.pkl']"
            ]
          },
          "metadata": {},
          "execution_count": 44
        },
        {
          "output_type": "execute_result",
          "data": {
            "text/plain": [
              "['/content/drive/MyDrive/Colab Notebooks/MSC_IoT_2023/save_data/clf_KNN.pkl']"
            ]
          },
          "metadata": {},
          "execution_count": 44
        }
      ]
    },
    {
      "cell_type": "code",
      "metadata": {
        "id": "PF1x4zC4Wd9V"
      },
      "source": [
        "clf_GBDT= joblib.load('/content/drive/MyDrive/Colab Notebooks/MSC_IoT_2023/save_data/clf_GBDT.pkl')\n",
        "clf_DT = joblib.load('/content/drive/MyDrive/Colab Notebooks/MSC_IoT_2023/save_data/clf_DT.pkl')\n",
        "clf_SVM = joblib.load('/content/drive/MyDrive/Colab Notebooks/MSC_IoT_2023/save_data/clf_SVM.pkl')\n",
        "clf_RF = joblib.load('/content/drive/MyDrive/Colab Notebooks/MSC_IoT_2023/save_data/clf_RF.pkl')\n",
        "clf_KNN = joblib.load('/content/drive/MyDrive/Colab Notebooks/MSC_IoT_2023/save_data/clf_KNN.pkl')"
      ],
      "execution_count": 45,
      "outputs": []
    },
    {
      "cell_type": "code",
      "metadata": {
        "colab": {
          "base_uri": "https://localhost:8080/"
        },
        "id": "FbECoXEyX84R",
        "outputId": "e5a1ecb0-d43a-400c-fecd-c706afeb90a8"
      },
      "source": [
        "print(\"GBDT:\")\n",
        "df_cm_GBDT = pd.DataFrame(confusion_test_GBDT, index = [i for i in range(0, 5)], columns = [i for i in range(0, 5)])\n",
        "print(\"Ma trận nhầm lẫn GBDT: \")\n",
        "print(df_cm_GBDT)\n",
        "\n",
        "print(\"\\n\\nSVM:\")\n",
        "df_cm_SVM = pd.DataFrame(confusion_test_SVM, index = [i for i in range(0, 5)], columns = [i for i in range(0, 5)])\n",
        "print(\"Ma trận nhầm lẫn SVM: \")\n",
        "print(df_cm_SVM)\n",
        "\n",
        "print('\\n\\nRandom Forests: ')\n",
        "df_cm_RF = pd.DataFrame(confusion_test_RF, index = [i for i in range(0, 5)], columns = [i for i in range(0, 5)])\n",
        "print(\"Ma trận nhầm lẫn Random Forests: \")\n",
        "print(df_cm_RF)\n",
        "\n",
        "print('\\n\\nKNN: ')\n",
        "df_cm_KNN = pd.DataFrame(confusion_test_KNN, index = [i for i in range(0, 5)], columns = [i for i in range(0, 5)])\n",
        "print(\"Ma trận nhầm lẫn KNN: \")\n",
        "print(df_cm_KNN)"
      ],
      "execution_count": 47,
      "outputs": [
        {
          "output_type": "stream",
          "name": "stdout",
          "text": [
            " GBDT:\n",
            "Ma trận nhầm lẫn GBDT: \n",
            "     0    1    2    3    4\n",
            "0  251    0    0    0    0\n",
            "1    0  205    0    0    0\n",
            "2    0    0  194    0    0\n",
            "3    0    0    0  257    4\n",
            "4    0    0    0    0  181\n",
            "\n",
            "\n",
            " SVM:\n",
            "Ma trận nhầm lẫn SVM: \n",
            "     0    1    2    3    4\n",
            "0  251    0    0    0    0\n",
            "1    0  205    0    0    0\n",
            "2    0    0  194    0    0\n",
            "3    0    0    0  261    0\n",
            "4    0    0    0    0  181\n",
            "\n",
            "\n",
            " Random Forests stuffs: \n",
            "Ma trận nhầm lẫn Random Forests: \n",
            "     0    1    2    3    4\n",
            "0  251    0    0    0    0\n",
            "1    0  205    0    0    0\n",
            "2    0    0  194    0    0\n",
            "3    0    0    0  259    2\n",
            "4    0    0    0    0  181\n",
            "\n",
            "\n",
            " KNN: \n",
            "Ma trận nhầm lẫn KNN: \n",
            "     0    1    2    3    4\n",
            "0  251    0    0    0    0\n",
            "1    0  205    0    0    0\n",
            "2    0    0  194    0    0\n",
            "3    0    0    0  259    2\n",
            "4    0    0    0    0  181\n"
          ]
        }
      ]
    },
    {
      "cell_type": "code",
      "metadata": {
        "id": "XN6tPsaKYHGS"
      },
      "source": [
        "from sklearn.metrics import classification_report, confusion_matrix\n",
        "import seaborn as sb\n",
        "from sklearn.utils.multiclass import unique_labels\n",
        "\n",
        "target_names = ['Nằm','Ngồi', 'Đứng','Đi bộ', 'Đi nhanh']\n",
        "\n",
        "y_pred = clf_DT.predict(test_features)\n",
        "lables = np.concatenate([target_names, ])\n",
        "\n",
        "from sklearn.metrics import f1_score\n",
        "\n",
        "def plot_confusion_matrix(y_true, y_pred, classes,\n",
        "                          normalize=False, title=None):\n",
        "    # Compute confusion matrix\n",
        "    cm = confusion_matrix(y_true, y_pred)\n",
        "    # Only use the labels that appear in the data\n",
        "    classes = classes[unique_labels(y_true, y_pred)]\n",
        "    if normalize:\n",
        "        cm = cm.astype('float') / cm.sum(axis=1)[:, np.newaxis]\n",
        "        print(\"Normalized confusion matrix\")\n",
        "    else:\n",
        "        print('Confusion matrix, without normalization')\n",
        "\n",
        "    print(cm)\n",
        "\n",
        "    #metrics.f1_score(y_test, y_pred, labels=np.unique(y_pred))\n",
        "\n",
        "    fig, ax = plt.subplots(figsize = (10,6))\n",
        "    #Create a 2-dim array include: rows, columns, data\n",
        "    dataFrame = pd.DataFrame(cm)\n",
        "    #create a heatmap, annot = True: add text on each cell over heatmap\n",
        "    sb.heatmap(dataFrame, annot = True)\n",
        "    ax.set(xticklabels=classes, yticklabels=classes,\n",
        "           title=title,\n",
        "           ylabel='Nhãn thật',\n",
        "           xlabel='Nhãn dự đoán')\n",
        "    ax.set_yticklabels(ax.get_yticklabels(), rotation=0)\n",
        "    ax.set_xticklabels(ax.get_xticklabels(), rotation=30)\n",
        "\n",
        "    sb.set(font_scale = 1.3)\n",
        "\n",
        "np.set_printoptions(precision=2) #lam tron\n",
        "\n",
        "plot_confusion_matrix(label_test, y_pred, classes=lables,\n",
        "        title='\\n Ma trận nhầm lẫn DT')\n",
        "\n",
        "# Plot normalized confusion matrix\n",
        "plot_confusion_matrix(label_test, y_pred, classes=lables, normalize=True,\n",
        "        title='\\n Ma trận nhầm lẫn DT sau chuẩn hóa')\n",
        "\n",
        "plt.show()\n",
        "print (\"\\nClassification Report: \")\n",
        "print (classification_report(label_test, y_pred,labels=np.unique(y_pred)))"
      ],
      "execution_count": null,
      "outputs": []
    },
    {
      "cell_type": "code",
      "metadata": {
        "id": "65MgawsIYVrv",
        "colab": {
          "base_uri": "https://localhost:8080/"
        },
        "outputId": "fba956c1-e71f-48ce-e90a-53c9b4fb57de"
      },
      "source": [
        "import os\n",
        "DATA_PATH = \"/content/drive/MyDrive/Colab Notebooks/MSC_IoT_2023\"\n",
        "#kết nối các file code con trong thư mục\n",
        "!pwd && ls\n",
        "os.chdir(DATA_PATH)"
      ],
      "execution_count": 35,
      "outputs": [
        {
          "output_type": "stream",
          "name": "stdout",
          "text": [
            "/content\n",
            "drive  sample_data\n"
          ]
        }
      ]
    }
  ]
}